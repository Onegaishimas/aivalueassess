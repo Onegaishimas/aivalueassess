{
 "cells": [
  {
   "cell_type": "markdown",
   "metadata": {},
   "source": []
  },
  {
   "cell_type": "code",
   "execution_count": null,
   "metadata": {},
   "outputs": [],
   "source": [
    "import json\n",
    "\n",
    "def json_to_md(base_path):\n",
    "\n",
    "    json_file = f\"{base_path}.json\"  # Path to your JSON file\n",
    "    md_file = f\"{base_path}.md\"    # Path to your Markdown file\n",
    "\n",
    "    print(json_file)\n",
    "    print(md_file)\n",
    "\n",
    "    \"\"\"\n",
    "    Convert a JSON file to Markdown format and save the result to an output Markdown file.\n",
    "\n",
    "    Parameters:\n",
    "        json_file (str): Path to the input JSON file.\n",
    "        md_file (str): Path to the output Markdown file.\n",
    "    \"\"\"\n",
    "    try:\n",
    "        # Read and parse the JSON file\n",
    "        with open(json_file, 'r', encoding='utf-8') as f:\n",
    "            use_cases = json.load(f)\n",
    "\n",
    "        # Open the output Markdown file\n",
    "        with open(md_file, 'w', encoding='utf-8') as md:\n",
    "            # Iterate through each use case\n",
    "            for case in use_cases:\n",
    "                # Write the header and basic details to the Markdown file\n",
    "                md.write(f\"## Use Case ID: {case.get('Use Case ID', 'N/A')}\\n\\n\")\n",
    "                md.write(f\"**Agency:** {case.get('Agency', 'N/A')}\\n\\n\")\n",
    "                md.write(f\"**Bureau / Department:** {case.get('Bureau / Department', 'N/A')}\\n\\n\")\n",
    "                md.write(f\"**Use Case Name:** {case.get('Use Case Name', 'N/A')}\\n\\n\")\n",
    "\n",
    "                # # Write the prompt and response details\n",
    "                # md.write(\"### Prompt\\n\\n\")\n",
    "                # md.write(f\"{case.get('Prompt', 'N/A')}\\n\\n\")\n",
    "\n",
    "                md.write(\"### Response\\n\\n\")\n",
    "                md.write(f\"{case.get('Response', 'N/A')}\\n\\n\")\n",
    "\n",
    "                # Add a separator between use cases\n",
    "                md.write(\"---\\n\\n\")\n",
    "\n",
    "        print(f\"Markdown file saved to {md_file}\")\n",
    "\n",
    "    except Exception as e:\n",
    "        print(f\"An error occurred: {e}\")\n",
    "\n",
    "# base_path = '../artifact/ai_use_case_analysis.openai'   # Base path for the openai generated JSON and Markdown files\n",
    "# base_path = '../artifact/global_ai_use_case_analysis.openai'   # Base path for the openai generated JSON and Markdown files\n",
    "# base_path = '../artifact/ai_use_case_analysis.local'   # Base path for the local generated JSON and Markdown files\n",
    "base_path = '../artifact/global_ai_use_case_analysis.local'   # Base path for the local generated JSON and Markdown files\n",
    "\n",
    "# Convert the JSON file to Markdown\n",
    "json_to_md(base_path)\n",
    "\n"
   ]
  }
 ],
 "metadata": {
  "kernelspec": {
   "display_name": ".env",
   "language": "python",
   "name": "python3"
  },
  "language_info": {
   "name": "python",
   "version": "3.12.3"
  }
 },
 "nbformat": 4,
 "nbformat_minor": 2
}
